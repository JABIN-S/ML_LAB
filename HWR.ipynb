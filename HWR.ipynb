{
  "nbformat": 4,
  "nbformat_minor": 0,
  "metadata": {
    "colab": {
      "provenance": [],
      "collapsed_sections": []
    },
    "kernelspec": {
      "name": "python3",
      "display_name": "Python 3"
    },
    "language_info": {
      "name": "python"
    }
  },
  "cells": [
    {
      "cell_type": "code",
      "execution_count": 56,
      "metadata": {
        "id": "DCCzhCTnZXQY"
      },
      "outputs": [],
      "source": [
        "from sklearn.datasets import load_digits\n",
        "import matplotlib.pyplot as plt\n",
        "import numpy as np\n",
        "import pandas as pd"
      ]
    },
    {
      "cell_type": "code",
      "source": [
        "X,y=load_digits().data,load_digits().target"
      ],
      "metadata": {
        "id": "oWGj48lRaa98"
      },
      "execution_count": 57,
      "outputs": []
    },
    {
      "cell_type": "code",
      "source": [
        "X "
      ],
      "metadata": {
        "colab": {
          "base_uri": "https://localhost:8080/"
        },
        "id": "zhvM6m4-an1D",
        "outputId": "eeb95cbd-93b0-4910-8aa1-d0db99963a27"
      },
      "execution_count": 58,
      "outputs": [
        {
          "output_type": "execute_result",
          "data": {
            "text/plain": [
              "array([[ 0.,  0.,  5., ...,  0.,  0.,  0.],\n",
              "       [ 0.,  0.,  0., ..., 10.,  0.,  0.],\n",
              "       [ 0.,  0.,  0., ..., 16.,  9.,  0.],\n",
              "       ...,\n",
              "       [ 0.,  0.,  1., ...,  6.,  0.,  0.],\n",
              "       [ 0.,  0.,  2., ..., 12.,  0.,  0.],\n",
              "       [ 0.,  0., 10., ..., 12.,  1.,  0.]])"
            ]
          },
          "metadata": {},
          "execution_count": 58
        }
      ]
    },
    {
      "cell_type": "code",
      "source": [
        "y"
      ],
      "metadata": {
        "colab": {
          "base_uri": "https://localhost:8080/"
        },
        "id": "8sohguXdayeR",
        "outputId": "1d48db4a-0d3e-44f9-d4b2-f65aa03ad652"
      },
      "execution_count": 59,
      "outputs": [
        {
          "output_type": "execute_result",
          "data": {
            "text/plain": [
              "array([0, 1, 2, ..., 8, 9, 8])"
            ]
          },
          "metadata": {},
          "execution_count": 59
        }
      ]
    },
    {
      "cell_type": "code",
      "source": [
        "X.shape"
      ],
      "metadata": {
        "colab": {
          "base_uri": "https://localhost:8080/"
        },
        "id": "zGdrlNb8beBz",
        "outputId": "7df9eb89-1ad4-4662-d24c-77e4c6ab94ab"
      },
      "execution_count": 60,
      "outputs": [
        {
          "output_type": "execute_result",
          "data": {
            "text/plain": [
              "(1797, 64)"
            ]
          },
          "metadata": {},
          "execution_count": 60
        }
      ]
    },
    {
      "cell_type": "code",
      "source": [
        "y.shape"
      ],
      "metadata": {
        "colab": {
          "base_uri": "https://localhost:8080/"
        },
        "id": "-OAXaLHlbhFj",
        "outputId": "bc7cffd8-38be-427b-9447-a58e2a717136"
      },
      "execution_count": 61,
      "outputs": [
        {
          "output_type": "execute_result",
          "data": {
            "text/plain": [
              "(1797,)"
            ]
          },
          "metadata": {},
          "execution_count": 61
        }
      ]
    },
    {
      "cell_type": "code",
      "source": [
        "plt.imshow(X[40].reshape(8,8))"
      ],
      "metadata": {
        "colab": {
          "base_uri": "https://localhost:8080/",
          "height": 282
        },
        "id": "mBEQCXMGbjbL",
        "outputId": "117126bd-8cef-4a73-e7e6-2ff19af8f866"
      },
      "execution_count": 62,
      "outputs": [
        {
          "output_type": "execute_result",
          "data": {
            "text/plain": [
              "<matplotlib.image.AxesImage at 0x7f93e5137090>"
            ]
          },
          "metadata": {},
          "execution_count": 62
        },
        {
          "output_type": "display_data",
          "data": {
            "text/plain": [
              "<Figure size 432x288 with 1 Axes>"
            ],
            "image/png": "[encoded data removed]"
          },
          "metadata": {
            "needs_background": "light"
          }
        }
      ]
    },
    {
      "cell_type": "code",
      "source": [
        "def softmax(a):\n",
        "  e_a=np.exp(a)\n",
        "  ans=e_a/np.sum(e_a,axis=1, keepdims=True)\n",
        "  return ans"
      ],
      "metadata": {
        "id": "DV1wEodebqYM"
      },
      "execution_count": 63,
      "outputs": []
    },
    {
      "cell_type": "code",
      "source": [
        "softmax([[90,10],[70,30]])"
      ],
      "metadata": {
        "colab": {
          "base_uri": "https://localhost:8080/"
        },
        "id": "9lrW3SdFdinO",
        "outputId": "1cf2a3d2-27b5-4322-8d1a-3f8b9e7f70e5"
      },
      "execution_count": 64,
      "outputs": [
        {
          "output_type": "execute_result",
          "data": {
            "text/plain": [
              "array([[1.00000000e+00, 1.80485139e-35],\n",
              "       [1.00000000e+00, 4.24835426e-18]])"
            ]
          },
          "metadata": {},
          "execution_count": 64
        }
      ]
    },
    {
      "cell_type": "code",
      "source": [
        "class NN:\n",
        "  def __init__(self,input_size=64,layers=[500,1000],output=10):\n",
        "    np.random.seed(0)\n",
        "    model = {}\n",
        "    model['w1']=np.random.randn(input_size,layers[0])\n",
        "    model['b1']=np.zeros((1,layers[0]))\n",
        "\n",
        "    model['w2']=np.random.randn(layers[0],layers[1])\n",
        "    model['b2']=np.zeros((1,layers[1]))\n",
        "\n",
        "    model['w3']=np.random.randn(layers[1],output)\n",
        "    model['b3']=np.zeros((1,output))\n",
        "\n",
        "    self.model=model\n",
        "\n",
        "  def forward(self,X):\n",
        "    z1 = np.dot(X,self.model['w1']) + self.model['b1']\n",
        "    a1=np.tanh(z1)\n",
        "\n",
        "    z2 = np.dot(a1,self.model['w2']) + self.model['b2']\n",
        "    a2=np.tanh(z2)\n",
        "\n",
        "    z3 = np.dot(a2,self.model['w3']) + self.model['b3']\n",
        "    y_=softmax(z3)\n",
        "\n",
        "    self.activation_outputs=(a1,a2,y_)\n",
        "    return y_\n",
        "\n",
        "  def backward(self,X,y,learning_rate=0.01):\n",
        "    w1,w2,w3=self.model['w1'],self.model['w2'],self.model['w3']\n",
        "    b1,b2,b3=self.model['b1'],self.model['b2'],self.model['b3']\n",
        "    m=X.shape[0]\n",
        "    a1,a2,y_=self.activation_outputs\n",
        "\n",
        "    delta3=y_-y\n",
        "    dw3=np.dot(a2.T,delta3)\n",
        "    db3=np.sum(delta3,axis=0)/float(m)\n",
        "\n",
        "    delta2=(1-np.square((a2))*np.dot(delta3,w3.T))\n",
        "    dw2=np.dot(a1.T,delta2)\n",
        "    db2=np.sum(delta2,axis=0)/float(m)\n",
        "\n",
        "    delta1=(1-np.square((a1))*np.dot(delta2,w2.T))\n",
        "    dw1=np.dot(X.T,delta1)\n",
        "    db1=np.sum(delta1,axis=0)/float(m)\n",
        "\n",
        "    self.model['w1'] -=learning_rate*dw1/m\n",
        "    self.model['b1'] -=learning_rate*db1\n",
        "\n",
        "    self.model['w2'] -=learning_rate*dw2/m\n",
        "    self.model['b2'] -=learning_rate*db2\n",
        "\n",
        "    self.model['w3'] -=learning_rate*dw3/m\n",
        "    self.model['b3'] -=learning_rate*db3\n",
        "  \n",
        "  def predict(self,X):\n",
        "    y_out=self.forward(X)\n",
        "    return np.argmax(y_out,axis=1)\n"
      ],
      "metadata": {
        "id": "HbUHoCqkfqRf"
      },
      "execution_count": 79,
      "outputs": []
    },
    {
      "cell_type": "code",
      "source": [
        "  def loss(y_oht,y_):\n",
        "    l=-np.mean(y_oht*np.log(y_))\n",
        "    return l"
      ],
      "metadata": {
        "id": "AUYgwWOV3WEz"
      },
      "execution_count": 80,
      "outputs": []
    },
    {
      "cell_type": "code",
      "source": [
        "def one_hot(y,depth):\n",
        "  m=y.shape[0]\n",
        "  y_oht=np.zeros((m,depth))\n",
        "  y_oht[np.arange(m),y] = 1\n",
        "  return y_oht\n"
      ],
      "metadata": {
        "id": "t6fQ1Q2O55Hi"
      },
      "execution_count": 81,
      "outputs": []
    },
    {
      "cell_type": "code",
      "source": [
        "def train(X,y,model,epochs,learning_rate=0.01,logs=True):\n",
        "  training_loss=[]\n",
        "  classes=10\n",
        "  y_oht=one_hot(y,classes)\n",
        "  for ix in range (epochs):\n",
        "    y_=model.forward(X)\n",
        "    l=loss(y_oht,y_)\n",
        "    model.backward(X,y_oht,learning_rate)\n",
        "    training_loss.append(1)\n",
        "    if(logs):\n",
        "      print(\"Epoch %d Loss %.4F\"%(ix,logs))\n",
        "  return training_loss   "
      ],
      "metadata": {
        "id": "YyRorYPd8lE7"
      },
      "execution_count": 82,
      "outputs": []
    },
    {
      "cell_type": "code",
      "source": [
        "model=NN()"
      ],
      "metadata": {
        "id": "bch5S-lj_Hge"
      },
      "execution_count": 83,
      "outputs": []
    },
    {
      "cell_type": "code",
      "source": [
        "loss=train(X,y,model,700)"
      ],
      "metadata": {
        "colab": {
          "base_uri": "https://localhost:8080/"
        },
        "id": "YVchZpcT_LyW",
        "outputId": "9df7b24f-a9e3-4b4e-d0c7-77b229a0e639"
      },
      "execution_count": 84,
      "outputs": [
        {
          "output_type": "stream",
          "name": "stdout",
          "text": [
            "Epoch 0 Loss 1.0000\n",
            "Epoch 1 Loss 1.0000\n",
            "Epoch 2 Loss 1.0000\n",
            "Epoch 3 Loss 1.0000\n",
            "Epoch 4 Loss 1.0000\n",
            "Epoch 5 Loss 1.0000\n",
            "Epoch 6 Loss 1.0000\n",
            "Epoch 7 Loss 1.0000\n",
            "Epoch 8 Loss 1.0000\n",
            "Epoch 9 Loss 1.0000\n",
            "Epoch 10 Loss 1.0000\n",
            "Epoch 11 Loss 1.0000\n",
            "Epoch 12 Loss 1.0000\n",
            "Epoch 13 Loss 1.0000\n",
            "Epoch 14 Loss 1.0000\n",
            "Epoch 15 Loss 1.0000\n",
            "Epoch 16 Loss 1.0000\n",
            "Epoch 17 Loss 1.0000\n",
            "Epoch 18 Loss 1.0000\n",
            "Epoch 19 Loss 1.0000\n",
            "Epoch 20 Loss 1.0000\n",
            "Epoch 21 Loss 1.0000\n",
            "Epoch 22 Loss 1.0000\n",
            "Epoch 23 Loss 1.0000\n",
            "Epoch 24 Loss 1.0000\n",
            "Epoch 25 Loss 1.0000\n",
            "Epoch 26 Loss 1.0000\n",
            "Epoch 27 Loss 1.0000\n",
            "Epoch 28 Loss 1.0000\n",
            "Epoch 29 Loss 1.0000\n",
            "Epoch 30 Loss 1.0000\n",
            "Epoch 31 Loss 1.0000\n",
            "Epoch 32 Loss 1.0000\n",
            "Epoch 33 Loss 1.0000\n",
            "Epoch 34 Loss 1.0000\n",
            "Epoch 35 Loss 1.0000\n",
            "Epoch 36 Loss 1.0000\n",
            "Epoch 37 Loss 1.0000\n",
            "Epoch 38 Loss 1.0000\n",
            "Epoch 39 Loss 1.0000\n",
            "Epoch 40 Loss 1.0000\n",
            "Epoch 41 Loss 1.0000\n",
            "Epoch 42 Loss 1.0000\n",
            "Epoch 43 Loss 1.0000\n",
            "Epoch 44 Loss 1.0000\n",
            "Epoch 45 Loss 1.0000\n",
            "Epoch 46 Loss 1.0000\n",
            "Epoch 47 Loss 1.0000\n",
            "Epoch 48 Loss 1.0000\n",
            "Epoch 49 Loss 1.0000\n",
            "Epoch 50 Loss 1.0000\n",
            "Epoch 51 Loss 1.0000\n",
            "Epoch 52 Loss 1.0000\n",
            "Epoch 53 Loss 1.0000\n",
            "Epoch 54 Loss 1.0000\n",
            "Epoch 55 Loss 1.0000\n",
            "Epoch 56 Loss 1.0000\n",
            "Epoch 57 Loss 1.0000\n",
            "Epoch 58 Loss 1.0000\n",
            "Epoch 59 Loss 1.0000\n",
            "Epoch 60 Loss 1.0000\n",
            "Epoch 61 Loss 1.0000\n",
            "Epoch 62 Loss 1.0000\n",
            "Epoch 63 Loss 1.0000\n",
            "Epoch 64 Loss 1.0000\n",
            "Epoch 65 Loss 1.0000\n",
            "Epoch 66 Loss 1.0000\n",
            "Epoch 67 Loss 1.0000\n",
            "Epoch 68 Loss 1.0000\n",
            "Epoch 69 Loss 1.0000\n",
            "Epoch 70 Loss 1.0000\n",
            "Epoch 71 Loss 1.0000\n",
            "Epoch 72 Loss 1.0000\n",
            "Epoch 73 Loss 1.0000\n",
            "Epoch 74 Loss 1.0000\n",
            "Epoch 75 Loss 1.0000\n",
            "Epoch 76 Loss 1.0000\n",
            "Epoch 77 Loss 1.0000\n",
            "Epoch 78 Loss 1.0000\n",
            "Epoch 79 Loss 1.0000\n",
            "Epoch 80 Loss 1.0000\n",
            "Epoch 81 Loss 1.0000\n",
            "Epoch 82 Loss 1.0000\n",
            "Epoch 83 Loss 1.0000\n",
            "Epoch 84 Loss 1.0000\n",
            "Epoch 85 Loss 1.0000\n",
            "Epoch 86 Loss 1.0000\n",
            "Epoch 87 Loss 1.0000\n",
            "Epoch 88 Loss 1.0000\n",
            "Epoch 89 Loss 1.0000\n",
            "Epoch 90 Loss 1.0000\n",
            "Epoch 91 Loss 1.0000\n",
            "Epoch 92 Loss 1.0000\n",
            "Epoch 93 Loss 1.0000\n",
            "Epoch 94 Loss 1.0000\n",
            "Epoch 95 Loss 1.0000\n",
            "Epoch 96 Loss 1.0000\n",
            "Epoch 97 Loss 1.0000\n",
            "Epoch 98 Loss 1.0000\n",
            "Epoch 99 Loss 1.0000\n",
            "Epoch 100 Loss 1.0000\n",
            "Epoch 101 Loss 1.0000\n",
            "Epoch 102 Loss 1.0000\n",
            "Epoch 103 Loss 1.0000\n",
            "Epoch 104 Loss 1.0000\n",
            "Epoch 105 Loss 1.0000\n",
            "Epoch 106 Loss 1.0000\n",
            "Epoch 107 Loss 1.0000\n",
            "Epoch 108 Loss 1.0000\n",
            "Epoch 109 Loss 1.0000\n",
            "Epoch 110 Loss 1.0000\n",
            "Epoch 111 Loss 1.0000\n",
            "Epoch 112 Loss 1.0000\n",
            "Epoch 113 Loss 1.0000\n",
            "Epoch 114 Loss 1.0000\n",
            "Epoch 115 Loss 1.0000\n",
            "Epoch 116 Loss 1.0000\n",
            "Epoch 117 Loss 1.0000\n",
            "Epoch 118 Loss 1.0000\n",
            "Epoch 119 Loss 1.0000\n",
            "Epoch 120 Loss 1.0000\n",
            "Epoch 121 Loss 1.0000\n",
            "Epoch 122 Loss 1.0000\n",
            "Epoch 123 Loss 1.0000\n",
            "Epoch 124 Loss 1.0000\n",
            "Epoch 125 Loss 1.0000\n",
            "Epoch 126 Loss 1.0000\n",
            "Epoch 127 Loss 1.0000\n",
            "Epoch 128 Loss 1.0000\n",
            "Epoch 129 Loss 1.0000\n",
            "Epoch 130 Loss 1.0000\n",
            "Epoch 131 Loss 1.0000\n",
            "Epoch 132 Loss 1.0000\n",
            "Epoch 133 Loss 1.0000\n",
            "Epoch 134 Loss 1.0000\n",
            "Epoch 135 Loss 1.0000\n",
            "Epoch 136 Loss 1.0000\n",
            "Epoch 137 Loss 1.0000\n",
            "Epoch 138 Loss 1.0000\n",
            "Epoch 139 Loss 1.0000\n",
            "Epoch 140 Loss 1.0000\n",
            "Epoch 141 Loss 1.0000\n",
            "Epoch 142 Loss 1.0000\n",
            "Epoch 143 Loss 1.0000\n",
            "Epoch 144 Loss 1.0000\n",
            "Epoch 145 Loss 1.0000\n",
            "Epoch 146 Loss 1.0000\n",
            "Epoch 147 Loss 1.0000\n",
            "Epoch 148 Loss 1.0000\n",
            "Epoch 149 Loss 1.0000\n",
            "Epoch 150 Loss 1.0000\n",
            "Epoch 151 Loss 1.0000\n",
            "Epoch 152 Loss 1.0000\n",
            "Epoch 153 Loss 1.0000\n",
            "Epoch 154 Loss 1.0000\n",
            "Epoch 155 Loss 1.0000\n",
            "Epoch 156 Loss 1.0000\n",
            "Epoch 157 Loss 1.0000\n",
            "Epoch 158 Loss 1.0000\n",
            "Epoch 159 Loss 1.0000\n",
            "Epoch 160 Loss 1.0000\n",
            "Epoch 161 Loss 1.0000\n",
            "Epoch 162 Loss 1.0000\n",
            "Epoch 163 Loss 1.0000\n",
            "Epoch 164 Loss 1.0000\n",
            "Epoch 165 Loss 1.0000\n",
            "Epoch 166 Loss 1.0000\n",
            "Epoch 167 Loss 1.0000\n",
            "Epoch 168 Loss 1.0000\n",
            "Epoch 169 Loss 1.0000\n",
            "Epoch 170 Loss 1.0000\n",
            "Epoch 171 Loss 1.0000\n",
            "Epoch 172 Loss 1.0000\n",
            "Epoch 173 Loss 1.0000\n",
            "Epoch 174 Loss 1.0000\n",
            "Epoch 175 Loss 1.0000\n",
            "Epoch 176 Loss 1.0000\n",
            "Epoch 177 Loss 1.0000\n",
            "Epoch 178 Loss 1.0000\n",
            "Epoch 179 Loss 1.0000\n",
            "Epoch 180 Loss 1.0000\n",
            "Epoch 181 Loss 1.0000\n",
            "Epoch 182 Loss 1.0000\n",
            "Epoch 183 Loss 1.0000\n",
            "Epoch 184 Loss 1.0000\n",
            "Epoch 185 Loss 1.0000\n",
            "Epoch 186 Loss 1.0000\n",
            "Epoch 187 Loss 1.0000\n",
            "Epoch 188 Loss 1.0000\n",
            "Epoch 189 Loss 1.0000\n",
            "Epoch 190 Loss 1.0000\n",
            "Epoch 191 Loss 1.0000\n",
            "Epoch 192 Loss 1.0000\n",
            "Epoch 193 Loss 1.0000\n",
            "Epoch 194 Loss 1.0000\n",
            "Epoch 195 Loss 1.0000\n",
            "Epoch 196 Loss 1.0000\n",
            "Epoch 197 Loss 1.0000\n",
            "Epoch 198 Loss 1.0000\n",
            "Epoch 199 Loss 1.0000\n",
            "Epoch 200 Loss 1.0000\n",
            "Epoch 201 Loss 1.0000\n",
            "Epoch 202 Loss 1.0000\n",
            "Epoch 203 Loss 1.0000\n",
            "Epoch 204 Loss 1.0000\n",
            "Epoch 205 Loss 1.0000\n",
            "Epoch 206 Loss 1.0000\n",
            "Epoch 207 Loss 1.0000\n",
            "Epoch 208 Loss 1.0000\n",
            "Epoch 209 Loss 1.0000\n",
            "Epoch 210 Loss 1.0000\n",
            "Epoch 211 Loss 1.0000\n",
            "Epoch 212 Loss 1.0000\n",
            "Epoch 213 Loss 1.0000\n",
            "Epoch 214 Loss 1.0000\n",
            "Epoch 215 Loss 1.0000\n",
            "Epoch 216 Loss 1.0000\n",
            "Epoch 217 Loss 1.0000\n",
            "Epoch 218 Loss 1.0000\n",
            "Epoch 219 Loss 1.0000\n",
            "Epoch 220 Loss 1.0000\n",
            "Epoch 221 Loss 1.0000\n",
            "Epoch 222 Loss 1.0000\n",
            "Epoch 223 Loss 1.0000\n",
            "Epoch 224 Loss 1.0000\n",
            "Epoch 225 Loss 1.0000\n",
            "Epoch 226 Loss 1.0000\n",
            "Epoch 227 Loss 1.0000\n",
            "Epoch 228 Loss 1.0000\n",
            "Epoch 229 Loss 1.0000\n",
            "Epoch 230 Loss 1.0000\n",
            "Epoch 231 Loss 1.0000\n",
            "Epoch 232 Loss 1.0000\n",
            "Epoch 233 Loss 1.0000\n",
            "Epoch 234 Loss 1.0000\n",
            "Epoch 235 Loss 1.0000\n",
            "Epoch 236 Loss 1.0000\n",
            "Epoch 237 Loss 1.0000\n",
            "Epoch 238 Loss 1.0000\n",
            "Epoch 239 Loss 1.0000\n",
            "Epoch 240 Loss 1.0000\n",
            "Epoch 241 Loss 1.0000\n",
            "Epoch 242 Loss 1.0000\n",
            "Epoch 243 Loss 1.0000\n",
            "Epoch 244 Loss 1.0000\n",
            "Epoch 245 Loss 1.0000\n",
            "Epoch 246 Loss 1.0000\n",
            "Epoch 247 Loss 1.0000\n",
            "Epoch 248 Loss 1.0000\n",
            "Epoch 249 Loss 1.0000\n",
            "Epoch 250 Loss 1.0000\n",
            "Epoch 251 Loss 1.0000\n",
            "Epoch 252 Loss 1.0000\n",
            "Epoch 253 Loss 1.0000\n",
            "Epoch 254 Loss 1.0000\n",
            "Epoch 255 Loss 1.0000\n",
            "Epoch 256 Loss 1.0000\n",
            "Epoch 257 Loss 1.0000\n",
            "Epoch 258 Loss 1.0000\n",
            "Epoch 259 Loss 1.0000\n",
            "Epoch 260 Loss 1.0000\n",
            "Epoch 261 Loss 1.0000\n",
            "Epoch 262 Loss 1.0000\n",
            "Epoch 263 Loss 1.0000\n",
            "Epoch 264 Loss 1.0000\n",
            "Epoch 265 Loss 1.0000\n",
            "Epoch 266 Loss 1.0000\n",
            "Epoch 267 Loss 1.0000\n",
            "Epoch 268 Loss 1.0000\n",
            "Epoch 269 Loss 1.0000\n",
            "Epoch 270 Loss 1.0000\n",
            "Epoch 271 Loss 1.0000\n",
            "Epoch 272 Loss 1.0000\n",
            "Epoch 273 Loss 1.0000\n",
            "Epoch 274 Loss 1.0000\n",
            "Epoch 275 Loss 1.0000\n",
            "Epoch 276 Loss 1.0000\n",
            "Epoch 277 Loss 1.0000\n",
            "Epoch 278 Loss 1.0000\n",
            "Epoch 279 Loss 1.0000\n",
            "Epoch 280 Loss 1.0000\n",
            "Epoch 281 Loss 1.0000\n",
            "Epoch 282 Loss 1.0000\n",
            "Epoch 283 Loss 1.0000\n",
            "Epoch 284 Loss 1.0000\n",
            "Epoch 285 Loss 1.0000\n",
            "Epoch 286 Loss 1.0000\n",
            "Epoch 287 Loss 1.0000\n",
            "Epoch 288 Loss 1.0000\n",
            "Epoch 289 Loss 1.0000\n",
            "Epoch 290 Loss 1.0000\n",
            "Epoch 291 Loss 1.0000\n",
            "Epoch 292 Loss 1.0000\n",
            "Epoch 293 Loss 1.0000\n",
            "Epoch 294 Loss 1.0000\n",
            "Epoch 295 Loss 1.0000\n",
            "Epoch 296 Loss 1.0000\n",
            "Epoch 297 Loss 1.0000\n",
            "Epoch 298 Loss 1.0000\n",
            "Epoch 299 Loss 1.0000\n",
            "Epoch 300 Loss 1.0000\n",
            "Epoch 301 Loss 1.0000\n",
            "Epoch 302 Loss 1.0000\n",
            "Epoch 303 Loss 1.0000\n",
            "Epoch 304 Loss 1.0000\n",
            "Epoch 305 Loss 1.0000\n",
            "Epoch 306 Loss 1.0000\n",
            "Epoch 307 Loss 1.0000\n",
            "Epoch 308 Loss 1.0000\n",
            "Epoch 309 Loss 1.0000\n",
            "Epoch 310 Loss 1.0000\n",
            "Epoch 311 Loss 1.0000\n",
            "Epoch 312 Loss 1.0000\n",
            "Epoch 313 Loss 1.0000\n",
            "Epoch 314 Loss 1.0000\n",
            "Epoch 315 Loss 1.0000\n",
            "Epoch 316 Loss 1.0000\n",
            "Epoch 317 Loss 1.0000\n",
            "Epoch 318 Loss 1.0000\n",
            "Epoch 319 Loss 1.0000\n",
            "Epoch 320 Loss 1.0000\n",
            "Epoch 321 Loss 1.0000\n",
            "Epoch 322 Loss 1.0000\n",
            "Epoch 323 Loss 1.0000\n",
            "Epoch 324 Loss 1.0000\n",
            "Epoch 325 Loss 1.0000\n",
            "Epoch 326 Loss 1.0000\n",
            "Epoch 327 Loss 1.0000\n",
            "Epoch 328 Loss 1.0000\n",
            "Epoch 329 Loss 1.0000\n",
            "Epoch 330 Loss 1.0000\n",
            "Epoch 331 Loss 1.0000\n",
            "Epoch 332 Loss 1.0000\n",
            "Epoch 333 Loss 1.0000\n",
            "Epoch 334 Loss 1.0000\n",
            "Epoch 335 Loss 1.0000\n",
            "Epoch 336 Loss 1.0000\n",
            "Epoch 337 Loss 1.0000\n",
            "Epoch 338 Loss 1.0000\n",
            "Epoch 339 Loss 1.0000\n",
            "Epoch 340 Loss 1.0000\n",
            "Epoch 341 Loss 1.0000\n",
            "Epoch 342 Loss 1.0000\n",
            "Epoch 343 Loss 1.0000\n",
            "Epoch 344 Loss 1.0000\n",
            "Epoch 345 Loss 1.0000\n",
            "Epoch 346 Loss 1.0000\n",
            "Epoch 347 Loss 1.0000\n",
            "Epoch 348 Loss 1.0000\n",
            "Epoch 349 Loss 1.0000\n",
            "Epoch 350 Loss 1.0000\n",
            "Epoch 351 Loss 1.0000\n",
            "Epoch 352 Loss 1.0000\n",
            "Epoch 353 Loss 1.0000\n",
            "Epoch 354 Loss 1.0000\n",
            "Epoch 355 Loss 1.0000\n",
            "Epoch 356 Loss 1.0000\n",
            "Epoch 357 Loss 1.0000\n",
            "Epoch 358 Loss 1.0000\n",
            "Epoch 359 Loss 1.0000\n",
            "Epoch 360 Loss 1.0000\n",
            "Epoch 361 Loss 1.0000\n",
            "Epoch 362 Loss 1.0000\n",
            "Epoch 363 Loss 1.0000\n",
            "Epoch 364 Loss 1.0000\n",
            "Epoch 365 Loss 1.0000\n",
            "Epoch 366 Loss 1.0000\n",
            "Epoch 367 Loss 1.0000\n",
            "Epoch 368 Loss 1.0000\n",
            "Epoch 369 Loss 1.0000\n",
            "Epoch 370 Loss 1.0000\n",
            "Epoch 371 Loss 1.0000\n",
            "Epoch 372 Loss 1.0000\n",
            "Epoch 373 Loss 1.0000\n",
            "Epoch 374 Loss 1.0000\n",
            "Epoch 375 Loss 1.0000\n",
            "Epoch 376 Loss 1.0000\n",
            "Epoch 377 Loss 1.0000\n",
            "Epoch 378 Loss 1.0000\n",
            "Epoch 379 Loss 1.0000\n",
            "Epoch 380 Loss 1.0000\n",
            "Epoch 381 Loss 1.0000\n",
            "Epoch 382 Loss 1.0000\n",
            "Epoch 383 Loss 1.0000\n",
            "Epoch 384 Loss 1.0000\n",
            "Epoch 385 Loss 1.0000\n",
            "Epoch 386 Loss 1.0000\n",
            "Epoch 387 Loss 1.0000\n",
            "Epoch 388 Loss 1.0000\n",
            "Epoch 389 Loss 1.0000\n",
            "Epoch 390 Loss 1.0000\n",
            "Epoch 391 Loss 1.0000\n",
            "Epoch 392 Loss 1.0000\n",
            "Epoch 393 Loss 1.0000\n",
            "Epoch 394 Loss 1.0000\n",
            "Epoch 395 Loss 1.0000\n",
            "Epoch 396 Loss 1.0000\n",
            "Epoch 397 Loss 1.0000\n",
            "Epoch 398 Loss 1.0000\n",
            "Epoch 399 Loss 1.0000\n",
            "Epoch 400 Loss 1.0000\n",
            "Epoch 401 Loss 1.0000\n",
            "Epoch 402 Loss 1.0000\n",
            "Epoch 403 Loss 1.0000\n",
            "Epoch 404 Loss 1.0000\n",
            "Epoch 405 Loss 1.0000\n",
            "Epoch 406 Loss 1.0000\n",
            "Epoch 407 Loss 1.0000\n",
            "Epoch 408 Loss 1.0000\n",
            "Epoch 409 Loss 1.0000\n",
            "Epoch 410 Loss 1.0000\n",
            "Epoch 411 Loss 1.0000\n",
            "Epoch 412 Loss 1.0000\n",
            "Epoch 413 Loss 1.0000\n",
            "Epoch 414 Loss 1.0000\n",
            "Epoch 415 Loss 1.0000\n",
            "Epoch 416 Loss 1.0000\n",
            "Epoch 417 Loss 1.0000\n",
            "Epoch 418 Loss 1.0000\n",
            "Epoch 419 Loss 1.0000\n",
            "Epoch 420 Loss 1.0000\n",
            "Epoch 421 Loss 1.0000\n",
            "Epoch 422 Loss 1.0000\n",
            "Epoch 423 Loss 1.0000\n",
            "Epoch 424 Loss 1.0000\n",
            "Epoch 425 Loss 1.0000\n",
            "Epoch 426 Loss 1.0000\n",
            "Epoch 427 Loss 1.0000\n",
            "Epoch 428 Loss 1.0000\n",
            "Epoch 429 Loss 1.0000\n",
            "Epoch 430 Loss 1.0000\n",
            "Epoch 431 Loss 1.0000\n",
            "Epoch 432 Loss 1.0000\n",
            "Epoch 433 Loss 1.0000\n",
            "Epoch 434 Loss 1.0000\n",
            "Epoch 435 Loss 1.0000\n",
            "Epoch 436 Loss 1.0000\n",
            "Epoch 437 Loss 1.0000\n",
            "Epoch 438 Loss 1.0000\n",
            "Epoch 439 Loss 1.0000\n",
            "Epoch 440 Loss 1.0000\n",
            "Epoch 441 Loss 1.0000\n",
            "Epoch 442 Loss 1.0000\n",
            "Epoch 443 Loss 1.0000\n",
            "Epoch 444 Loss 1.0000\n",
            "Epoch 445 Loss 1.0000\n",
            "Epoch 446 Loss 1.0000\n",
            "Epoch 447 Loss 1.0000\n",
            "Epoch 448 Loss 1.0000\n",
            "Epoch 449 Loss 1.0000\n",
            "Epoch 450 Loss 1.0000\n",
            "Epoch 451 Loss 1.0000\n",
            "Epoch 452 Loss 1.0000\n",
            "Epoch 453 Loss 1.0000\n",
            "Epoch 454 Loss 1.0000\n",
            "Epoch 455 Loss 1.0000\n",
            "Epoch 456 Loss 1.0000\n",
            "Epoch 457 Loss 1.0000\n",
            "Epoch 458 Loss 1.0000\n",
            "Epoch 459 Loss 1.0000\n",
            "Epoch 460 Loss 1.0000\n",
            "Epoch 461 Loss 1.0000\n",
            "Epoch 462 Loss 1.0000\n",
            "Epoch 463 Loss 1.0000\n",
            "Epoch 464 Loss 1.0000\n",
            "Epoch 465 Loss 1.0000\n",
            "Epoch 466 Loss 1.0000\n",
            "Epoch 467 Loss 1.0000\n",
            "Epoch 468 Loss 1.0000\n",
            "Epoch 469 Loss 1.0000\n",
            "Epoch 470 Loss 1.0000\n",
            "Epoch 471 Loss 1.0000\n",
            "Epoch 472 Loss 1.0000\n",
            "Epoch 473 Loss 1.0000\n",
            "Epoch 474 Loss 1.0000\n",
            "Epoch 475 Loss 1.0000\n",
            "Epoch 476 Loss 1.0000\n",
            "Epoch 477 Loss 1.0000\n",
            "Epoch 478 Loss 1.0000\n",
            "Epoch 479 Loss 1.0000\n",
            "Epoch 480 Loss 1.0000\n",
            "Epoch 481 Loss 1.0000\n",
            "Epoch 482 Loss 1.0000\n",
            "Epoch 483 Loss 1.0000\n",
            "Epoch 484 Loss 1.0000\n",
            "Epoch 485 Loss 1.0000\n",
            "Epoch 486 Loss 1.0000\n",
            "Epoch 487 Loss 1.0000\n",
            "Epoch 488 Loss 1.0000\n",
            "Epoch 489 Loss 1.0000\n",
            "Epoch 490 Loss 1.0000\n",
            "Epoch 491 Loss 1.0000\n",
            "Epoch 492 Loss 1.0000\n",
            "Epoch 493 Loss 1.0000\n",
            "Epoch 494 Loss 1.0000\n",
            "Epoch 495 Loss 1.0000\n",
            "Epoch 496 Loss 1.0000\n",
            "Epoch 497 Loss 1.0000\n",
            "Epoch 498 Loss 1.0000\n",
            "Epoch 499 Loss 1.0000\n",
            "Epoch 500 Loss 1.0000\n",
            "Epoch 501 Loss 1.0000\n",
            "Epoch 502 Loss 1.0000\n",
            "Epoch 503 Loss 1.0000\n",
            "Epoch 504 Loss 1.0000\n",
            "Epoch 505 Loss 1.0000\n",
            "Epoch 506 Loss 1.0000\n",
            "Epoch 507 Loss 1.0000\n",
            "Epoch 508 Loss 1.0000\n",
            "Epoch 509 Loss 1.0000\n",
            "Epoch 510 Loss 1.0000\n",
            "Epoch 511 Loss 1.0000\n",
            "Epoch 512 Loss 1.0000\n",
            "Epoch 513 Loss 1.0000\n",
            "Epoch 514 Loss 1.0000\n",
            "Epoch 515 Loss 1.0000\n",
            "Epoch 516 Loss 1.0000\n",
            "Epoch 517 Loss 1.0000\n",
            "Epoch 518 Loss 1.0000\n",
            "Epoch 519 Loss 1.0000\n",
            "Epoch 520 Loss 1.0000\n",
            "Epoch 521 Loss 1.0000\n",
            "Epoch 522 Loss 1.0000\n",
            "Epoch 523 Loss 1.0000\n",
            "Epoch 524 Loss 1.0000\n",
            "Epoch 525 Loss 1.0000\n",
            "Epoch 526 Loss 1.0000\n",
            "Epoch 527 Loss 1.0000\n",
            "Epoch 528 Loss 1.0000\n",
            "Epoch 529 Loss 1.0000\n",
            "Epoch 530 Loss 1.0000\n",
            "Epoch 531 Loss 1.0000\n",
            "Epoch 532 Loss 1.0000\n",
            "Epoch 533 Loss 1.0000\n",
            "Epoch 534 Loss 1.0000\n",
            "Epoch 535 Loss 1.0000\n",
            "Epoch 536 Loss 1.0000\n",
            "Epoch 537 Loss 1.0000\n",
            "Epoch 538 Loss 1.0000\n",
            "Epoch 539 Loss 1.0000\n",
            "Epoch 540 Loss 1.0000\n",
            "Epoch 541 Loss 1.0000\n",
            "Epoch 542 Loss 1.0000\n",
            "Epoch 543 Loss 1.0000\n",
            "Epoch 544 Loss 1.0000\n",
            "Epoch 545 Loss 1.0000\n",
            "Epoch 546 Loss 1.0000\n",
            "Epoch 547 Loss 1.0000\n",
            "Epoch 548 Loss 1.0000\n",
            "Epoch 549 Loss 1.0000\n",
            "Epoch 550 Loss 1.0000\n",
            "Epoch 551 Loss 1.0000\n",
            "Epoch 552 Loss 1.0000\n",
            "Epoch 553 Loss 1.0000\n",
            "Epoch 554 Loss 1.0000\n",
            "Epoch 555 Loss 1.0000\n",
            "Epoch 556 Loss 1.0000\n",
            "Epoch 557 Loss 1.0000\n",
            "Epoch 558 Loss 1.0000\n",
            "Epoch 559 Loss 1.0000\n",
            "Epoch 560 Loss 1.0000\n",
            "Epoch 561 Loss 1.0000\n",
            "Epoch 562 Loss 1.0000\n",
            "Epoch 563 Loss 1.0000\n",
            "Epoch 564 Loss 1.0000\n",
            "Epoch 565 Loss 1.0000\n",
            "Epoch 566 Loss 1.0000\n",
            "Epoch 567 Loss 1.0000\n",
            "Epoch 568 Loss 1.0000\n",
            "Epoch 569 Loss 1.0000\n",
            "Epoch 570 Loss 1.0000\n",
            "Epoch 571 Loss 1.0000\n",
            "Epoch 572 Loss 1.0000\n",
            "Epoch 573 Loss 1.0000\n",
            "Epoch 574 Loss 1.0000\n",
            "Epoch 575 Loss 1.0000\n",
            "Epoch 576 Loss 1.0000\n",
            "Epoch 577 Loss 1.0000\n",
            "Epoch 578 Loss 1.0000\n",
            "Epoch 579 Loss 1.0000\n",
            "Epoch 580 Loss 1.0000\n",
            "Epoch 581 Loss 1.0000\n",
            "Epoch 582 Loss 1.0000\n",
            "Epoch 583 Loss 1.0000\n",
            "Epoch 584 Loss 1.0000\n",
            "Epoch 585 Loss 1.0000\n",
            "Epoch 586 Loss 1.0000\n",
            "Epoch 587 Loss 1.0000\n",
            "Epoch 588 Loss 1.0000\n",
            "Epoch 589 Loss 1.0000\n",
            "Epoch 590 Loss 1.0000\n",
            "Epoch 591 Loss 1.0000\n",
            "Epoch 592 Loss 1.0000\n",
            "Epoch 593 Loss 1.0000\n",
            "Epoch 594 Loss 1.0000\n",
            "Epoch 595 Loss 1.0000\n",
            "Epoch 596 Loss 1.0000\n",
            "Epoch 597 Loss 1.0000\n",
            "Epoch 598 Loss 1.0000\n",
            "Epoch 599 Loss 1.0000\n",
            "Epoch 600 Loss 1.0000\n",
            "Epoch 601 Loss 1.0000\n",
            "Epoch 602 Loss 1.0000\n",
            "Epoch 603 Loss 1.0000\n",
            "Epoch 604 Loss 1.0000\n",
            "Epoch 605 Loss 1.0000\n",
            "Epoch 606 Loss 1.0000\n",
            "Epoch 607 Loss 1.0000\n",
            "Epoch 608 Loss 1.0000\n",
            "Epoch 609 Loss 1.0000\n",
            "Epoch 610 Loss 1.0000\n",
            "Epoch 611 Loss 1.0000\n",
            "Epoch 612 Loss 1.0000\n",
            "Epoch 613 Loss 1.0000\n",
            "Epoch 614 Loss 1.0000\n",
            "Epoch 615 Loss 1.0000\n",
            "Epoch 616 Loss 1.0000\n",
            "Epoch 617 Loss 1.0000\n",
            "Epoch 618 Loss 1.0000\n",
            "Epoch 619 Loss 1.0000\n",
            "Epoch 620 Loss 1.0000\n",
            "Epoch 621 Loss 1.0000\n",
            "Epoch 622 Loss 1.0000\n",
            "Epoch 623 Loss 1.0000\n",
            "Epoch 624 Loss 1.0000\n",
            "Epoch 625 Loss 1.0000\n",
            "Epoch 626 Loss 1.0000\n",
            "Epoch 627 Loss 1.0000\n",
            "Epoch 628 Loss 1.0000\n",
            "Epoch 629 Loss 1.0000\n",
            "Epoch 630 Loss 1.0000\n",
            "Epoch 631 Loss 1.0000\n",
            "Epoch 632 Loss 1.0000\n",
            "Epoch 633 Loss 1.0000\n",
            "Epoch 634 Loss 1.0000\n",
            "Epoch 635 Loss 1.0000\n",
            "Epoch 636 Loss 1.0000\n",
            "Epoch 637 Loss 1.0000\n",
            "Epoch 638 Loss 1.0000\n",
            "Epoch 639 Loss 1.0000\n",
            "Epoch 640 Loss 1.0000\n",
            "Epoch 641 Loss 1.0000\n",
            "Epoch 642 Loss 1.0000\n",
            "Epoch 643 Loss 1.0000\n",
            "Epoch 644 Loss 1.0000\n",
            "Epoch 645 Loss 1.0000\n",
            "Epoch 646 Loss 1.0000\n",
            "Epoch 647 Loss 1.0000\n",
            "Epoch 648 Loss 1.0000\n",
            "Epoch 649 Loss 1.0000\n",
            "Epoch 650 Loss 1.0000\n",
            "Epoch 651 Loss 1.0000\n",
            "Epoch 652 Loss 1.0000\n",
            "Epoch 653 Loss 1.0000\n",
            "Epoch 654 Loss 1.0000\n",
            "Epoch 655 Loss 1.0000\n",
            "Epoch 656 Loss 1.0000\n",
            "Epoch 657 Loss 1.0000\n",
            "Epoch 658 Loss 1.0000\n",
            "Epoch 659 Loss 1.0000\n",
            "Epoch 660 Loss 1.0000\n",
            "Epoch 661 Loss 1.0000\n",
            "Epoch 662 Loss 1.0000\n",
            "Epoch 663 Loss 1.0000\n",
            "Epoch 664 Loss 1.0000\n",
            "Epoch 665 Loss 1.0000\n",
            "Epoch 666 Loss 1.0000\n",
            "Epoch 667 Loss 1.0000\n",
            "Epoch 668 Loss 1.0000\n",
            "Epoch 669 Loss 1.0000\n",
            "Epoch 670 Loss 1.0000\n",
            "Epoch 671 Loss 1.0000\n",
            "Epoch 672 Loss 1.0000\n",
            "Epoch 673 Loss 1.0000\n",
            "Epoch 674 Loss 1.0000\n",
            "Epoch 675 Loss 1.0000\n",
            "Epoch 676 Loss 1.0000\n",
            "Epoch 677 Loss 1.0000\n",
            "Epoch 678 Loss 1.0000\n",
            "Epoch 679 Loss 1.0000\n",
            "Epoch 680 Loss 1.0000\n",
            "Epoch 681 Loss 1.0000\n",
            "Epoch 682 Loss 1.0000\n",
            "Epoch 683 Loss 1.0000\n",
            "Epoch 684 Loss 1.0000\n",
            "Epoch 685 Loss 1.0000\n",
            "Epoch 686 Loss 1.0000\n",
            "Epoch 687 Loss 1.0000\n",
            "Epoch 688 Loss 1.0000\n",
            "Epoch 689 Loss 1.0000\n",
            "Epoch 690 Loss 1.0000\n",
            "Epoch 691 Loss 1.0000\n",
            "Epoch 692 Loss 1.0000\n",
            "Epoch 693 Loss 1.0000\n",
            "Epoch 694 Loss 1.0000\n",
            "Epoch 695 Loss 1.0000\n",
            "Epoch 696 Loss 1.0000\n",
            "Epoch 697 Loss 1.0000\n",
            "Epoch 698 Loss 1.0000\n",
            "Epoch 699 Loss 1.0000\n"
          ]
        }
      ]
    },
    {
      "cell_type": "code",
      "source": [
        "ypred=model.predict(X)\n"
      ],
      "metadata": {
        "id": "bnWC2FYJ_tok"
      },
      "execution_count": 85,
      "outputs": []
    },
    {
      "cell_type": "code",
      "source": [
        "np.mean(ypred==y)"
      ],
      "metadata": {
        "colab": {
          "base_uri": "https://localhost:8080/"
        },
        "id": "_0p_msik_18Q",
        "outputId": "e77672e9-f5ed-4764-841b-ed26d965ea88"
      },
      "execution_count": 86,
      "outputs": [
        {
          "output_type": "execute_result",
          "data": {
            "text/plain": [
              "0.6132442960489705"
            ]
          },
          "metadata": {},
          "execution_count": 86
        }
      ]
    },
    {
      "cell_type": "code",
      "source": [
        "plt.imshow(X[20].reshape(8,8))"
      ],
      "metadata": {
        "colab": {
          "base_uri": "https://localhost:8080/",
          "height": 282
        },
        "id": "6Ef5JCrZAZUF",
        "outputId": "c3c80894-50e7-44a7-915f-d3462973ea37"
      },
      "execution_count": 89,
      "outputs": [
        {
          "output_type": "execute_result",
          "data": {
            "text/plain": [
              "<matplotlib.image.AxesImage at 0x7f93e511b210>"
            ]
          },
          "metadata": {},
          "execution_count": 89
        },
        {
          "output_type": "display_data",
          "data": {
            "text/plain": [
              "<Figure size 432x288 with 1 Axes>"
            ],
            "image/png": "[encoded data removed]"
          },
          "metadata": {
            "needs_background": "light"
          }
        }
      ]
    },
    {
      "cell_type": "code",
      "source": [
        "ypred[20]"
      ],
      "metadata": {
        "colab": {
          "base_uri": "https://localhost:8080/"
        },
        "id": "zaCC_N4CAZFt",
        "outputId": "3de87f17-1970-4eba-8f9c-daea7cecfc64"
      },
      "execution_count": 87,
      "outputs": [
        {
          "output_type": "execute_result",
          "data": {
            "text/plain": [
              "0"
            ]
          },
          "metadata": {},
          "execution_count": 87
        }
      ]
    },
    {
      "cell_type": "code",
      "source": [
        "y[20]"
      ],
      "metadata": {
        "colab": {
          "base_uri": "https://localhost:8080/"
        },
        "id": "OirII5NmJUXS",
        "outputId": "12c03ca8-0670-429f-8e10-675c89beb9bc"
      },
      "execution_count": 88,
      "outputs": [
        {
          "output_type": "execute_result",
          "data": {
            "text/plain": [
              "0"
            ]
          },
          "metadata": {},
          "execution_count": 88
        }
      ]
    }
  ]
}