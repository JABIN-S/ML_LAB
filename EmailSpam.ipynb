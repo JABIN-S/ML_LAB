{
  "nbformat": 4,
  "nbformat_minor": 0,
  "metadata": {
    "colab": {
      "provenance": [],
      "collapsed_sections": []
    },
    "kernelspec": {
      "name": "python3",
      "display_name": "Python 3"
    },
    "language_info": {
      "name": "python"
    }
  },
  "cells": [
    {
      "cell_type": "code",
      "execution_count": null,
      "metadata": {
        "id": "RUDrlLeAtIb2"
      },
      "outputs": [],
      "source": [
        "import numpy as np\n",
        "import pandas as pd\n",
        "import matplotlib.pyplot as plt\n",
        "from sklearn.feature_extraction.text import CountVectorizer\n",
        "from sklearn.model_selection import GridSearchCV\n",
        "from sklearn import svm"
      ]
    },
    {
      "cell_type": "code",
      "source": [
        "data = pd.read_csv('/content/spam.csv')"
      ],
      "metadata": {
        "id": "dkwY3eXStgqi"
      },
      "execution_count": null,
      "outputs": []
    },
    {
      "cell_type": "code",
      "source": [
        "data.info()"
      ],
      "metadata": {
        "colab": {
          "base_uri": "https://localhost:8080/"
        },
        "id": "rg7jemdHt91D",
        "outputId": "80568c29-31a9-4d76-da30-ffc6895f68f8"
      },
      "execution_count": null,
      "outputs": [
        {
          "output_type": "stream",
          "name": "stdout",
          "text": [
            "<class 'pandas.core.frame.DataFrame'>\n",
            "RangeIndex: 5572 entries, 0 to 5571\n",
            "Data columns (total 2 columns):\n",
            " #   Column    Non-Null Count  Dtype \n",
            "---  ------    --------------  ----- \n",
            " 0   Category  5572 non-null   object\n",
            " 1   Message   5572 non-null   object\n",
            "dtypes: object(2)\n",
            "memory usage: 87.2+ KB\n"
          ]
        }
      ]
    },
    {
      "cell_type": "code",
      "source": [
        "data.head()"
      ],
      "metadata": {
        "colab": {
          "base_uri": "https://localhost:8080/",
          "height": 206
        },
        "id": "NBw8wuixu3Qr",
        "outputId": "0320a0b3-1458-490c-d080-7a6803c9940a"
      },
      "execution_count": null,
      "outputs": [
        {
          "output_type": "execute_result",
          "data": {
            "text/plain": [
              "  Category                                            Message\n",
              "0      ham  Go until jurong point, crazy.. Available only ...\n",
              "1      ham                      Ok lar... Joking wif u oni...\n",
              "2     spam  Free entry in 2 a wkly comp to win FA Cup fina...\n",
              "3      ham  U dun say so early hor... U c already then say...\n",
              "4      ham  Nah I don't think he goes to usf, he lives aro..."
            ],
            "text/html": [
              "\n",
              "  <div id=\"df-1b165bcb-3602-43e7-9fcb-adc60a962564\">\n",
              "    <div class=\"colab-df-container\">\n",
              "      <div>\n",
              "<style scoped>\n",
              "    .dataframe tbody tr th:only-of-type {\n",
              "        vertical-align: middle;\n",
              "    }\n",
              "\n",
              "    .dataframe tbody tr th {\n",
              "        vertical-align: top;\n",
              "    }\n",
              "\n",
              "    .dataframe thead th {\n",
              "        text-align: right;\n",
              "    }\n",
              "</style>\n",
              "<table border=\"1\" class=\"dataframe\">\n",
              "  <thead>\n",
              "    <tr style=\"text-align: right;\">\n",
              "      <th></th>\n",
              "      <th>Category</th>\n",
              "      <th>Message</th>\n",
              "    </tr>\n",
              "  </thead>\n",
              "  <tbody>\n",
              "    <tr>\n",
              "      <th>0</th>\n",
              "      <td>ham</td>\n",
              "      <td>Go until jurong point, crazy.. Available only ...</td>\n",
              "    </tr>\n",
              "    <tr>\n",
              "      <th>1</th>\n",
              "      <td>ham</td>\n",
              "      <td>Ok lar... Joking wif u oni...</td>\n",
              "    </tr>\n",
              "    <tr>\n",
              "      <th>2</th>\n",
              "      <td>spam</td>\n",
              "      <td>Free entry in 2 a wkly comp to win FA Cup fina...</td>\n",
              "    </tr>\n",
              "    <tr>\n",
              "      <th>3</th>\n",
              "      <td>ham</td>\n",
              "      <td>U dun say so early hor... U c already then say...</td>\n",
              "    </tr>\n",
              "    <tr>\n",
              "      <th>4</th>\n",
              "      <td>ham</td>\n",
              "      <td>Nah I don't think he goes to usf, he lives aro...</td>\n",
              "    </tr>\n",
              "  </tbody>\n",
              "</table>\n",
              "</div>\n",
              "      <button class=\"colab-df-convert\" onclick=\"convertToInteractive('df-1b165bcb-3602-43e7-9fcb-adc60a962564')\"\n",
              "              title=\"Convert this dataframe to an interactive table.\"\n",
              "              style=\"display:none;\">\n",
              "        \n",
              "  <svg xmlns=\"http://www.w3.org/2000/svg\" height=\"24px\"viewBox=\"0 0 24 24\"\n",
              "       width=\"24px\">\n",
              "    <path d=\"M0 0h24v24H0V0z\" fill=\"none\"/>\n",
              "    <path d=\"M18.56 5.44l.94 2.06.94-2.06 2.06-.94-2.06-.94-.94-2.06-.94 2.06-2.06.94zm-11 1L8.5 8.5l.94-2.06 2.06-.94-2.06-.94L8.5 2.5l-.94 2.06-2.06.94zm10 10l.94 2.06.94-2.06 2.06-.94-2.06-.94-.94-2.06-.94 2.06-2.06.94z\"/><path d=\"M17.41 7.96l-1.37-1.37c-.4-.4-.92-.59-1.43-.59-.52 0-1.04.2-1.43.59L10.3 9.45l-7.72 7.72c-.78.78-.78 2.05 0 2.83L4 21.41c.39.39.9.59 1.41.59.51 0 1.02-.2 1.41-.59l7.78-7.78 2.81-2.81c.8-.78.8-2.07 0-2.86zM5.41 20L4 18.59l7.72-7.72 1.47 1.35L5.41 20z\"/>\n",
              "  </svg>\n",
              "      </button>\n",
              "      \n",
              "  <style>\n",
              "    .colab-df-container {\n",
              "      display:flex;\n",
              "      flex-wrap:wrap;\n",
              "      gap: 12px;\n",
              "    }\n",
              "\n",
              "    .colab-df-convert {\n",
              "      background-color: #E8F0FE;\n",
              "      border: none;\n",
              "      border-radius: 50%;\n",
              "      cursor: pointer;\n",
              "      display: none;\n",
              "      fill: #1967D2;\n",
              "      height: 32px;\n",
              "      padding: 0 0 0 0;\n",
              "      width: 32px;\n",
              "    }\n",
              "\n",
              "    .colab-df-convert:hover {\n",
              "      background-color: #E2EBFA;\n",
              "      box-shadow: 0px 1px 2px rgba(60, 64, 67, 0.3), 0px 1px 3px 1px rgba(60, 64, 67, 0.15);\n",
              "      fill: #174EA6;\n",
              "    }\n",
              "\n",
              "    [theme=dark] .colab-df-convert {\n",
              "      background-color: #3B4455;\n",
              "      fill: #D2E3FC;\n",
              "    }\n",
              "\n",
              "    [theme=dark] .colab-df-convert:hover {\n",
              "      background-color: #434B5C;\n",
              "      box-shadow: 0px 1px 3px 1px rgba(0, 0, 0, 0.15);\n",
              "      filter: drop-shadow(0px 1px 2px rgba(0, 0, 0, 0.3));\n",
              "      fill: #FFFFFF;\n",
              "    }\n",
              "  </style>\n",
              "\n",
              "      <script>\n",
              "        const buttonEl =\n",
              "          document.querySelector('#df-1b165bcb-3602-43e7-9fcb-adc60a962564 button.colab-df-convert');\n",
              "        buttonEl.style.display =\n",
              "          google.colab.kernel.accessAllowed ? 'block' : 'none';\n",
              "\n",
              "        async function convertToInteractive(key) {\n",
              "          const element = document.querySelector('#df-1b165bcb-3602-43e7-9fcb-adc60a962564');\n",
              "          const dataTable =\n",
              "            await google.colab.kernel.invokeFunction('convertToInteractive',\n",
              "                                                     [key], {});\n",
              "          if (!dataTable) return;\n",
              "\n",
              "          const docLinkHtml = 'Like what you see? Visit the ' +\n",
              "            '<a target=\"_blank\" href=https://colab.research.google.com/notebooks/data_table.ipynb>data table notebook</a>'\n",
              "            + ' to learn more about interactive tables.';\n",
              "          element.innerHTML = '';\n",
              "          dataTable['output_type'] = 'display_data';\n",
              "          await google.colab.output.renderOutput(dataTable, element);\n",
              "          const docLink = document.createElement('div');\n",
              "          docLink.innerHTML = docLinkHtml;\n",
              "          element.appendChild(docLink);\n",
              "        }\n",
              "      </script>\n",
              "    </div>\n",
              "  </div>\n",
              "  "
            ]
          },
          "metadata": {},
          "execution_count": 5
        }
      ]
    },
    {
      "cell_type": "code",
      "source": [
        "X = data[\"Message\"].values\n",
        "y = data[\"Category\"].values"
      ],
      "metadata": {
        "id": "9i9JX8bDuFdj"
      },
      "execution_count": null,
      "outputs": []
    },
    {
      "cell_type": "code",
      "source": [
        "from sklearn.model_selection import train_test_split\n",
        "X_train, X_test, y_train, y_test = train_test_split( X, y, test_size=0.2, random_state=0)"
      ],
      "metadata": {
        "id": "u6un9sGyuORT"
      },
      "execution_count": null,
      "outputs": []
    },
    {
      "cell_type": "code",
      "source": [
        "cv = CountVectorizer() \n",
        "X_train = cv.fit_transform(X_train)\n",
        "X_test = cv.transform(X_test)"
      ],
      "metadata": {
        "id": "XUk-1_QluRLD"
      },
      "execution_count": null,
      "outputs": []
    },
    {
      "cell_type": "code",
      "source": [
        "print(X_train)"
      ],
      "metadata": {
        "colab": {
          "base_uri": "https://localhost:8080/"
        },
        "id": "vhbHzpAGwRZF",
        "outputId": "f1aaee61-4803-44fa-a340-494168d6e266"
      },
      "execution_count": null,
      "outputs": [
        {
          "output_type": "stream",
          "name": "stdout",
          "text": [
            "  (0, 4809)\t1\n",
            "  (0, 3196)\t1\n",
            "  (0, 2943)\t1\n",
            "  (0, 6861)\t1\n",
            "  (0, 4623)\t1\n",
            "  (0, 3769)\t1\n",
            "  (0, 3781)\t1\n",
            "  (0, 4932)\t1\n",
            "  (0, 3615)\t1\n",
            "  (0, 4084)\t1\n",
            "  (0, 3661)\t1\n",
            "  (0, 957)\t1\n",
            "  (0, 3529)\t1\n",
            "  (1, 3615)\t1\n",
            "  (1, 7751)\t1\n",
            "  (1, 7502)\t1\n",
            "  (1, 1048)\t1\n",
            "  (1, 2990)\t1\n",
            "  (1, 1625)\t1\n",
            "  (1, 3158)\t1\n",
            "  (1, 5021)\t1\n",
            "  (1, 4696)\t1\n",
            "  (1, 816)\t1\n",
            "  (1, 2603)\t1\n",
            "  (1, 4716)\t1\n",
            "  :\t:\n",
            "  (4454, 373)\t1\n",
            "  (4454, 651)\t1\n",
            "  (4454, 4625)\t1\n",
            "  (4454, 2120)\t1\n",
            "  (4454, 110)\t1\n",
            "  (4454, 348)\t1\n",
            "  (4455, 3615)\t1\n",
            "  (4455, 3661)\t1\n",
            "  (4455, 1625)\t1\n",
            "  (4455, 7455)\t2\n",
            "  (4455, 4679)\t1\n",
            "  (4455, 3531)\t1\n",
            "  (4455, 3176)\t1\n",
            "  (4455, 4442)\t1\n",
            "  (4455, 5927)\t1\n",
            "  (4455, 2495)\t1\n",
            "  (4456, 3132)\t1\n",
            "  (4456, 2189)\t1\n",
            "  (4456, 6857)\t1\n",
            "  (4456, 6988)\t1\n",
            "  (4456, 6094)\t1\n",
            "  (4456, 2801)\t1\n",
            "  (4456, 3789)\t1\n",
            "  (4456, 4549)\t1\n",
            "  (4456, 6267)\t1\n"
          ]
        }
      ]
    },
    {
      "cell_type": "code",
      "source": [
        "print(X_test)"
      ],
      "metadata": {
        "colab": {
          "base_uri": "https://localhost:8080/"
        },
        "id": "8SZaTyWrwUgi",
        "outputId": "40466fc8-6ed1-44c7-e810-622d049202ed"
      },
      "execution_count": null,
      "outputs": [
        {
          "output_type": "stream",
          "name": "stdout",
          "text": [
            "  (0, 524)\t1\n",
            "  (0, 961)\t1\n",
            "  (0, 1537)\t1\n",
            "  (0, 1625)\t1\n",
            "  (0, 2167)\t1\n",
            "  (0, 2370)\t1\n",
            "  (0, 3152)\t2\n",
            "  (0, 3153)\t2\n",
            "  (0, 3231)\t1\n",
            "  (0, 3410)\t3\n",
            "  (0, 3454)\t1\n",
            "  (0, 3747)\t1\n",
            "  (0, 3769)\t3\n",
            "  (0, 3781)\t1\n",
            "  (0, 3989)\t2\n",
            "  (0, 4129)\t1\n",
            "  (0, 4378)\t1\n",
            "  (0, 4432)\t1\n",
            "  (0, 4599)\t1\n",
            "  (0, 4633)\t1\n",
            "  (0, 4698)\t2\n",
            "  (0, 4845)\t1\n",
            "  (0, 4908)\t3\n",
            "  (0, 4956)\t1\n",
            "  (0, 5187)\t1\n",
            "  :\t:\n",
            "  (1111, 4910)\t1\n",
            "  (1111, 6789)\t1\n",
            "  (1111, 6981)\t1\n",
            "  (1112, 855)\t1\n",
            "  (1112, 935)\t1\n",
            "  (1112, 972)\t1\n",
            "  (1112, 1097)\t1\n",
            "  (1112, 1603)\t1\n",
            "  (1112, 1901)\t1\n",
            "  (1112, 3030)\t1\n",
            "  (1112, 3176)\t1\n",
            "  (1112, 3213)\t1\n",
            "  (1112, 3661)\t1\n",
            "  (1112, 4033)\t1\n",
            "  (1112, 4692)\t1\n",
            "  (1112, 4873)\t1\n",
            "  (1112, 6861)\t1\n",
            "  (1112, 6981)\t2\n",
            "  (1112, 7561)\t1\n",
            "  (1113, 2626)\t1\n",
            "  (1114, 1048)\t1\n",
            "  (1114, 2394)\t1\n",
            "  (1114, 3535)\t1\n",
            "  (1114, 7515)\t1\n",
            "  (1114, 7751)\t2\n"
          ]
        }
      ]
    },
    {
      "cell_type": "code",
      "source": [
        "from sklearn.svm import SVC\n",
        "classifier = SVC(kernel = 'rbf', random_state = 10)\n",
        "classifier.fit(X_train, y_train)\n",
        "print(classifier.score(X_test,y_test))"
      ],
      "metadata": {
        "colab": {
          "base_uri": "https://localhost:8080/"
        },
        "id": "YLkTUrqTuTdD",
        "outputId": "6dafcd3a-ad79-4f7b-a1a2-a338c46c76c1"
      },
      "execution_count": null,
      "outputs": [
        {
          "output_type": "stream",
          "name": "stdout",
          "text": [
            "0.9820627802690582\n"
          ]
        }
      ]
    },
    {
      "cell_type": "code",
      "source": [
        "y_pred = classifier.predict(X_test)\n",
        "y_pred"
      ],
      "metadata": {
        "id": "W9gQAFX9zC-O",
        "colab": {
          "base_uri": "https://localhost:8080/"
        },
        "outputId": "fa849da0-7b1b-427f-a5b5-02b8ab227151"
      },
      "execution_count": null,
      "outputs": [
        {
          "output_type": "execute_result",
          "data": {
            "text/plain": [
              "array(['ham', 'spam', 'ham', ..., 'ham', 'ham', 'ham'], dtype=object)"
            ]
          },
          "metadata": {},
          "execution_count": 13
        }
      ]
    }
  ]
}